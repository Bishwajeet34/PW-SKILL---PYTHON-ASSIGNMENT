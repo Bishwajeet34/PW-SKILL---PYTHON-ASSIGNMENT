{
 "cells": [
  {
   "cell_type": "markdown",
   "metadata": {},
   "source": [
    "# Theory Questions"
   ]
  },
  {
   "cell_type": "markdown",
   "metadata": {
    "id": "qTopbsCYb_q5"
   },
   "source": [
    "### 1. What is Object-Oriented Programming (OOP)?"
   ]
  },
  {
   "cell_type": "markdown",
   "metadata": {},
   "source": [
    "Object-Oriented Programming (OOP) is a programming paradigm based on the concept of \"objects\", which can contain data in the form of attributes (variables) and behaviors in the form of methods (functions).\n",
    "\n",
    "### Key Features of OOP:\n",
    "- **Encapsulation**: Bundles data and methods that operate on the data within a single unit (class).\n",
    "- **Abstraction**: Hides complex implementation details and shows only the essential features.\n",
    "- **Inheritance**: Allows a class to inherit properties and behavior from another class.\n",
    "- **Polymorphism**: Allows objects to take on multiple forms through method overriding or operator overloading.\n",
    "\n",
    "### Benefits:\n",
    "- Promotes code reusability\n",
    "- Improves code organization and maintainability\n",
    "- Models real-world systems more effectively\n"
   ]
  },
  {
   "cell_type": "markdown",
   "metadata": {
    "id": "LLIHvQtdcfO8"
   },
   "source": [
    "### 2. What is a class in OOP?"
   ]
  },
  {
   "cell_type": "markdown",
   "metadata": {},
   "source": [
    "In object-oriented programming, a class is a blueprint or template for creating objects. It defines the structure and behavior of objects, which are instances of the class. A class specifies the data that an object of that class can hold (attributes) and the actions that it can perform (methods).\n",
    "\n",
    "### Key Features:\n",
    "- **Attributes**: Data stored in an object, which defines its state.\n",
    "- **Methods**: Functions associated with an object that define its behavior.\n",
    "- **Constructor**: A special method that is used to initialize the object's state when it is created (e.g., `__init__` in Python).\n"
   ]
  },
  {
   "cell_type": "markdown",
   "metadata": {
    "id": "0RsvRyQ7chQX"
   },
   "source": [
    "### 3.  What is an object in OOP?"
   ]
  },
  {
   "cell_type": "markdown",
   "metadata": {},
   "source": [
    "In object-oriented programming, an object is an instance of a class. It's a concrete entity with specific characteristics (attributes) and actions (methods) defined by the class. Objects are created using the class blueprint and have their own unique properties and behaviors.\n",
    "\n",
    "### Key Points:\n",
    "- **Objects are instances** of a class.\n",
    "- Objects have their own **state** (attributes) and **behavior** (methods).\n",
    "- Objects can **interact** with each other.\n"
   ]
  },
  {
   "cell_type": "markdown",
   "metadata": {
    "id": "4ORt5BMNcoxn"
   },
   "source": [
    "### 4. What is the difference between abstraction and encapsulation?"
   ]
  },
  {
   "cell_type": "markdown",
   "metadata": {},
   "source": [
    "Both abstraction and encapsulation are important concepts in object-oriented programming, but they serve different purposes:\n",
    "\n",
    "- **Abstraction** hides complexity by showing only essential information to the user. It focuses on **what** an object does, rather than **how** it does it.\n",
    "- **Encapsulation** bundles data and methods within a class, protecting the integrity of the data. It focuses on **how** an object performs its actions and **keeps data safe**.\n",
    "\n",
    "### Key Differences:\n",
    "- **Abstraction**: Hides complexity, focuses on essential features.\n",
    "- **Encapsulation**: Hides internal states, protects data integrity, and restricts unauthorized access.\n"
   ]
  },
  {
   "cell_type": "markdown",
   "metadata": {
    "id": "H7R3oCOcctwG"
   },
   "source": [
    "### 5. What are dunder methods in Python?"
   ]
  },
  {
   "cell_type": "markdown",
   "metadata": {},
   "source": [
    "In Python, dunder methods (also known as special methods or magic methods) are methods with double underscores (`__`) before and after their names. They are predefined methods that allow you to customize the behavior of your classes. Dunder methods are used to override operators and built-in functions.\n",
    "\n",
    "### Examples of common dunder methods:\n",
    "- **`__init__(self, ...)`**: The constructor, called when an object is created. Initializes the object's attributes.\n",
    "- **`__str__(self)`**: Returns a string representation of the object, used by `print()` and `str()`.\n",
    "- **`__repr__(self)`**: Returns an unambiguous string representation of the object, used by `repr()`.\n",
    "- **`__len__(self)`**: Returns the length of the object, used by `len()`.\n",
    "- **`__add__(self, other)`**: Defines the behavior of the `+` operator when used with objects of the class.\n",
    "- **`__eq__(self, other)`**: Defines the behavior of the `==` operator when used with objects of the class.\n"
   ]
  },
  {
   "cell_type": "markdown",
   "metadata": {
    "id": "rnWnZiT8c1oA"
   },
   "source": [
    "### 6. Explain the concept of inheritance in OOP."
   ]
  },
  {
   "cell_type": "raw",
   "metadata": {},
   "source": [
    "Inheritance is a key idea in object-oriented programming. It means you can create a \n",
    "new class that inherits the features (like variables and methods) of an existing class.\n",
    "This helps avoid writing the same code again and again.\n",
    "\n",
    "Example:\n",
    "If you have a class called Animal, you can make a new class Dog that inherits from it.\n",
    "So Dog automatically gets whatever is in Animal (like methods or data), and you can also\n",
    "add extra features to Dog.\n",
    "\n",
    "Important terms:\n",
    "\n",
    "Base class (Superclass): The original class (e.g., Animal)\n",
    "\n",
    "Derived class (Subclass): The new class that inherits from it (e.g., Dog)\n",
    "\n",
    "Inheritance: The act of passing features from one class to another\n",
    "\n",
    "Types of inheritance:\n",
    "\n",
    "Single inheritance: One child class inherits from one parent class\n",
    "\n",
    "Multiple inheritance: One class inherits from more than one parent class\n",
    "\n",
    "Multilevel inheritance: A class inherits from another class, which also inherited from another"
   ]
  },
  {
   "cell_type": "markdown",
   "metadata": {
    "id": "n2gOK0jvc9at"
   },
   "source": [
    "### 7. What is polymorphism in OOP?"
   ]
  },
  {
   "cell_type": "raw",
   "metadata": {},
   "source": [
    "Polymorphism means “many forms.” In OOP, it lets you use the same method name for\n",
    "different types of objects, and each object can do something different with it.\n",
    "\n",
    "Example:\n",
    "Imagine you have a speak() method.\n",
    "\n",
    "In a Dog class, speak() might say “Woof”\n",
    "\n",
    "In a Cat class, speak() might say “Meow”\n",
    "\n",
    "Even though the method name is the same, each class gives it its own meaning.\n",
    "\n",
    "Why it's useful:\n",
    "\n",
    "Flexible: You can write code that works with different objects using the same method name.\n",
    "\n",
    "Easy to update: You can add new classes without changing old code.\n",
    "\n",
    "Reusable: Reduces repeated code by using shared method names."
   ]
  },
  {
   "cell_type": "markdown",
   "metadata": {
    "id": "bzbfbGAcdCzf"
   },
   "source": [
    "### 8. How is encapsulation achieved in Python?"
   ]
  },
  {
   "cell_type": "raw",
   "metadata": {},
   "source": [
    "Encapsulation in Python is done using classes to group data and methods together. \n",
    "To protect the data, you can make attributes private by adding double underscores (__) \n",
    "before the variable name.\n",
    "You can then use getter and setter methods to control access to that data.\n",
    "\n",
    "This helps keep data safe and organized."
   ]
  },
  {
   "cell_type": "markdown",
   "metadata": {
    "id": "oMgVcTbkdMuY"
   },
   "source": [
    "### 9. What is a constructor in Python?"
   ]
  },
  {
   "cell_type": "raw",
   "metadata": {},
   "source": [
    "A constructor in Python is a special method called __init__() that runs\n",
    "automatically when you create an object. It’s used to set up the object’s\n",
    "starting values and make sure everything is ready to use.\n",
    "\n",
    "Constructors help customize each object when it’s created."
   ]
  },
  {
   "cell_type": "markdown",
   "metadata": {
    "id": "9CzEjLr2dbxq"
   },
   "source": [
    "### 10. What are class and static methods in Python?"
   ]
  },
  {
   "cell_type": "raw",
   "metadata": {},
   "source": [
    "Class methods are created with @classmethod and work with the class itself.\n",
    "They use cls as the first argument and can change class-level data.\n",
    "\n",
    "Static methods are created with @staticmethod. They don’t use self or cls\n",
    "and don’t access class or object data—they’re just helpful functions grouped\n",
    "in the class.\n",
    "\n",
    "In short:\n",
    "\n",
    "Class methods are for working with the class\n",
    "\n",
    "Static methods are general-purpose tools inside the class"
   ]
  },
  {
   "cell_type": "markdown",
   "metadata": {
    "id": "--KCzcK2dklU"
   },
   "source": [
    "### 11. What is method overloading in Python?"
   ]
  },
  {
   "cell_type": "raw",
   "metadata": {},
   "source": [
    "Method overloading means using the same method name with different types or numbers of parameters.\n",
    "\n",
    "In Python, traditional method overloading (like in Java or C++) is not supported. Instead, Python\n",
    "allows you to use default values or variable-length arguments to make a method handle different inputs.\n",
    "\n",
    "In short:\n",
    "Python lets you create flexible methods by adjusting the way you handle arguments, even though it doesn’t\n",
    "support true method overloading."
   ]
  },
  {
   "cell_type": "markdown",
   "metadata": {
    "id": "MXSh9DQmdtUl"
   },
   "source": [
    "### 12. What is method overriding in OOP?"
   ]
  },
  {
   "cell_type": "raw",
   "metadata": {},
   "source": [
    "Method overriding happens when a child class provides its own version of a method \n",
    "that’s already defined in its parent class.\n",
    "\n",
    "How it works:\n",
    "\n",
    "When a child class defines a method with the same name and parameters as a method in\n",
    "its parent class, it overrides that method.\n",
    "\n",
    "When the method is called on an object of the child class, it uses the child class’s \n",
    "version of the method, not the parent class’s."
   ]
  },
  {
   "cell_type": "markdown",
   "metadata": {
    "id": "RfltUAkTd4EF"
   },
   "source": [
    "### 13. What is a property decorator in Python?"
   ]
  },
  {
   "cell_type": "raw",
   "metadata": {},
   "source": [
    "The property decorator in Python allows you to define methods that act like attributes.\n",
    "It helps manage how attributes are accessed or changed by using getter, setter, and deleter methods.\n",
    "\n",
    "Benefits of using property decorators:\n",
    "\n",
    "Encapsulation: You control how attributes are accessed and modified.\n",
    "\n",
    "Read-only attributes: You can make attributes that can only be read (not changed).\n",
    "\n",
    "Computed attributes: You can create attributes that calculate their value when needed.\n",
    "\n",
    "Validation: You can check values before setting them."
   ]
  },
  {
   "cell_type": "markdown",
   "metadata": {
    "id": "PDtdKvyTd_US"
   },
   "source": [
    "### 14. Why is polymorphism important in OOP?"
   ]
  },
  {
   "cell_type": "raw",
   "metadata": {},
   "source": [
    "Polymorphism helps you write flexible and reusable code that can work \n",
    "with different types of objects in a consistent way. It makes your code\n",
    "easier to maintain and extend, as you can add new object types without changing\n",
    "the existing code.\n",
    "\n",
    "Key reasons why polymorphism is important:\n",
    "\n",
    "It makes code more flexible and reusable.\n",
    "\n",
    "It simplifies maintenance and extensions of code.\n",
    "\n",
    "It improves code organization and readability.\n",
    "\n",
    "It promotes loose coupling, meaning different parts of the code work independently.\n",
    "\n",
    "It helps model real-world scenarios more accurately"
   ]
  },
  {
   "cell_type": "markdown",
   "metadata": {
    "id": "TiAlitIdeQjh"
   },
   "source": [
    "### 15. What is an abstract class in Python?"
   ]
  },
  {
   "cell_type": "raw",
   "metadata": {},
   "source": [
    "An abstract class in Python is a class that you can’t make objects from directly.\n",
    "It’s like a base model that other classes must build on by adding their own details.\n",
    "\n",
    "Main features:\n",
    "\n",
    "Can’t create objects from it directly\n",
    "\n",
    "Has abstract methods (methods with no code) that child classes must complete\n",
    "\n",
    "Makes sure all child classes follow the same rules or structure\n",
    "\n",
    "In short, abstract classes are used to set a pattern for other classes to follow."
   ]
  },
  {
   "cell_type": "markdown",
   "metadata": {
    "id": "3ifNJWREeVya"
   },
   "source": [
    "### 16. What are the advantages of OOP?"
   ]
  },
  {
   "cell_type": "raw",
   "metadata": {},
   "source": [
    "Object-Oriented Programming (OOP) makes it easier to build and manage complex programs by \n",
    "organizing code into objects.\n",
    "\n",
    "Main advantages of OOP:\n",
    "\n",
    "Code reusability: You can reuse objects in different programs\n",
    "\n",
    "Easy to maintain: Code is organized in small parts (objects), so fixing or updating is easier\n",
    "\n",
    "Flexible code: Polymorphism allows different objects to be used in similar ways\n",
    "\n",
    "Better security: Encapsulation keeps data safe inside objects\n",
    "\n",
    "Simpler problem-solving: Big problems can be broken into smaller, easy-to-handle objects"
   ]
  },
  {
   "cell_type": "markdown",
   "metadata": {
    "id": "ffF2XvAaethS"
   },
   "source": [
    "### 17. What is the difference between a class variable and an instance variable?"
   ]
  },
  {
   "cell_type": "raw",
   "metadata": {},
   "source": [
    "Class Variables:\n",
    "\n",
    "Shared by all objects of the class\n",
    "\n",
    "Defined outside methods, inside the class\n",
    "\n",
    "Accessed using the class name or any object\n",
    "\n",
    "Good for values that should be the same for every object (like a counter)\n",
    "\n",
    "Instance Variables:\n",
    "\n",
    "Unique to each object\n",
    "\n",
    "Defined inside the __init__ method or other methods\n",
    "\n",
    "Accessed and changed using only that specific object\n",
    "\n",
    "Used to store object-specific data (like name or age)"
   ]
  },
  {
   "cell_type": "markdown",
   "metadata": {
    "id": "6_WUWnMte1tp"
   },
   "source": [
    "### 18.  What is multiple inheritance in Python?"
   ]
  },
  {
   "cell_type": "raw",
   "metadata": {},
   "source": [
    "Multiple inheritance means a class can inherit features from more than one parent class.\n",
    "This lets a child class use the functions and variables from all its parent classes.\n",
    "\n",
    "Example:\n",
    "It’s like a child getting traits from both mom and dad—they get a mix of both.\n",
    "\n",
    "Key points:\n",
    "\n",
    "Helps with code reuse\n",
    "\n",
    "Adds flexibility\n",
    "\n",
    "Can be tricky if two parent classes have the same method name (this is called the diamond problem)\n",
    "\n",
    "Python handles this using something called MRO (Method Resolution Order)\n",
    "\n",
    "Use it wisely to avoid confusion in your code."
   ]
  },
  {
   "cell_type": "markdown",
   "metadata": {
    "id": "3HvI0hj_flNm"
   },
   "source": [
    "### 19. Explain the purpose of ‘’_ _ str_ _’ and ‘_ _ repr _ _’’ methods in Python."
   ]
  },
  {
   "cell_type": "raw",
   "metadata": {},
   "source": [
    "Both __str__ and __repr__ are special methods used to return a string version of an object,\n",
    "but they are used in different ways:\n",
    "\n",
    "__str__ method:\n",
    "Used to show a nice, readable version of the object\n",
    "\n",
    "Meant for users\n",
    "\n",
    "Called when you use print() or str()\n",
    "\n",
    "__repr__ method:\n",
    "Used to show a detailed, technical version of the object\n",
    "\n",
    "Meant for developers\n",
    "\n",
    "Called by repr() and in Python shell or debugging tools\n",
    "\n",
    "Should return a string that looks like valid Python code"
   ]
  },
  {
   "cell_type": "markdown",
   "metadata": {
    "id": "cjd3H8KefxZ8"
   },
   "source": [
    "### 20.  What is the significance of the ‘super()’ function in Python?"
   ]
  },
  {
   "cell_type": "raw",
   "metadata": {},
   "source": [
    "The super() function is used to call methods from a parent class inside a child class.\n",
    "It helps you reuse code from the parent instead of writing it all over again.\n",
    "\n",
    "Why it's important:\n",
    "Avoids repetition – No need to rewrite code that's already in the parent class\n",
    "\n",
    "Keeps inheritance working properly – Ensures parent methods are used as expected\n",
    "\n",
    "Makes code easier to update – If the parent method changes, it still works in the child class\n",
    "\n",
    "In short: super() lets you build on what the parent class already does, making your code cleaner\n",
    "and easier to manage."
   ]
  },
  {
   "cell_type": "markdown",
   "metadata": {
    "id": "yWt7KHAwgD2B"
   },
   "source": [
    "### 21. What is the significance of the _ _ del _ _ method in Python?"
   ]
  },
  {
   "cell_type": "raw",
   "metadata": {},
   "source": [
    "The __del__ method is a special method in Python that is called automatically when an object is\n",
    "about to be deleted. It’s also known as a destructor.\n",
    "\n",
    "Why it’s important:\n",
    " Cleans up resources – Helps close files, disconnect from networks, or clean up memory\n",
    "\n",
    " Manages object cleanup – Useful when you want to do something before an object disappears\n",
    "\n",
    " Avoids resource leaks – Makes sure important things like open files or connections don’t stay stuck open\n",
    "\n",
    "In short: __del__ helps clean up after an object when Python is done with it."
   ]
  },
  {
   "cell_type": "markdown",
   "metadata": {
    "id": "rn3hmpqigLFL"
   },
   "source": [
    "### 22. What is the difference between @staticmethod and @classmethod in Python?"
   ]
  },
  {
   "cell_type": "raw",
   "metadata": {},
   "source": [
    "Both are special methods that belong to the class rather than individual objects, but they have different uses:\n",
    "\n",
    "@staticmethod\n",
    " Doesn’t need access to the class or instance\n",
    "\n",
    " Used for helper functions that are related to the class\n",
    "\n",
    " Doesn’t take self or cls as a parameter\n",
    "\n",
    " Can be called using the class name or an object\n",
    "\n",
    "@classmethod\n",
    " Works with the class itself (not specific objects)\n",
    "\n",
    " Often used to change class-level data or create objects in a different way\n",
    "\n",
    " Takes cls as its first parameter\n",
    "\n",
    " Can also be called using the class name or an object\n",
    "\n",
    "In short:\n",
    "\n",
    "Use @staticmethod for general-purpose methods.\n",
    "\n",
    "Use @classmethod when you need to access or change class-level data.\n",
    "\n"
   ]
  },
  {
   "cell_type": "markdown",
   "metadata": {
    "id": "IgQLzZcygRlT"
   },
   "source": [
    "### 23. How does polymorphism work in Python with inheritance?"
   ]
  },
  {
   "cell_type": "raw",
   "metadata": {},
   "source": [
    "Polymorphism means that the same method name can work in different ways, depending on the object \n",
    "using it. In Python, this often happens through inheritance and method overriding.\n",
    "\n",
    "How it works:\n",
    " Inheritance: A child class gets methods and properties from its parent class.\n",
    "\n",
    " Method Overriding: The child class can write its own version of a method that exists in the parent.\n",
    "\n",
    " Polymorphism: When you call the method, Python checks the actual type of the object and runs the \n",
    "correct version of the method.\n",
    "\n",
    "Example:\n",
    "If both Dog and Cat classes have a speak() method, and they inherit from Animal, you can loop over\n",
    "a list of Animal objects and call speak()—each one will respond in its own way.\n",
    "\n",
    "In short:\n",
    "Polymorphism allows the same method name to behave differently depending on which object is using it."
   ]
  },
  {
   "cell_type": "markdown",
   "metadata": {
    "id": "-u5j_3gJgW3-"
   },
   "source": [
    "### 24.  What is method chaining in Python OOP?"
   ]
  },
  {
   "cell_type": "code",
   "execution_count": null,
   "metadata": {},
   "outputs": [],
   "source": [
    "Method chaining is when you call multiple methods on the same object in one line. Each method returns\n",
    "the object itself (self), so you can keep calling another method right after the first.\n",
    "\n",
    "Benefits:\n",
    " Cleaner code – Makes the code shorter and easier to read by avoiding extra variables.\n",
    "\n",
    " Fluent Interface – Lets you interact with objects in a smooth and natural way.\n",
    "\n",
    " Reduces repetition – No need to repeatedly write the object’s name for each method call.\n",
    "\n",
    "In short:\n",
    "Method chaining allows you to run multiple methods on an object, one after another, in a single line of code."
   ]
  },
  {
   "cell_type": "markdown",
   "metadata": {
    "id": "gXXGzcYVgucc"
   },
   "source": [
    "### 25. What is the purpose of the _ _ call _ _ method in Python?"
   ]
  },
  {
   "cell_type": "raw",
   "metadata": {},
   "source": [
    "The _ _call_ _ method lets you use an object like a function. When you define this\n",
    "method in a class, you can call an instance of the class using parentheses, just like a function call.\n",
    "\n",
    "Purpose:\n",
    " Make Objects Callable: You can make objects behave like functions. Just use the object\n",
    "name followed by () to call the logic inside the __call__ method.\n",
    "\n",
    " Encapsulate Logic: It helps in organizing complex code within an object, making it easier to manage.\n",
    "\n",
    " Function-like Objects: You can create objects that act like functions, which is useful for custom function behavior.\n",
    "\n",
    "In short:\n",
    "The __call__ method allows you to use an object just like a function, giving you more flexibility in your cod"
   ]
  },
  {
   "cell_type": "markdown",
   "metadata": {
    "id": "mhhT3oEtg11n"
   },
   "source": [
    "# Practical Questions"
   ]
  },
  {
   "cell_type": "markdown",
   "metadata": {
    "id": "w4pqI6AWg7m5"
   },
   "source": [
    "### 1. Create a parent class Animal with a method speak() that prints a generic message. Create a child class Dog that overrides the speak() method to print \"Bark!\"."
   ]
  },
  {
   "cell_type": "code",
   "execution_count": 5,
   "metadata": {
    "colab": {
     "base_uri": "https://localhost:8080/"
    },
    "id": "1cs29hLZSJzs",
    "outputId": "43860ebe-0fda-43be-f623-4f9fe164f442"
   },
   "outputs": [
    {
     "name": "stdout",
     "output_type": "stream",
     "text": [
      "Generic animal sound\n",
      "Bark!\n"
     ]
    }
   ],
   "source": [
    "class Animal:\n",
    "    def speak(self):\n",
    "        print(\"Generic animal sound\")\n",
    "\n",
    "class Dog(Animal):\n",
    "    def speak(self):\n",
    "        print(\"Bark!\")\n",
    "\n",
    "# Create objects of the classes\n",
    "animal = Animal()\n",
    "dog = Dog()\n",
    "\n",
    "# Call the speak method on each object\n",
    "animal.speak()  # Output: Generic animal sound\n",
    "dog.speak()    # Output: Bark!"
   ]
  },
  {
   "cell_type": "markdown",
   "metadata": {
    "id": "Fh2BSMKOPtf7"
   },
   "source": [
    "### 2. Write a program to create an abstract class Shape with a method area(). Derive classes Circle and Rectangle from it and implement the area() method in both."
   ]
  },
  {
   "cell_type": "code",
   "execution_count": 8,
   "metadata": {
    "colab": {
     "base_uri": "https://localhost:8080/"
    },
    "id": "ZALDFEfZTbRx",
    "outputId": "1e29ac83-94ca-499d-9f52-596d6c92288b"
   },
   "outputs": [
    {
     "name": "stdout",
     "output_type": "stream",
     "text": [
      "Circle area: 314.159\n",
      "Rectangle area: 50\n"
     ]
    }
   ],
   "source": [
    "from abc import ABC, abstractmethod\n",
    "\n",
    "class Shape(ABC):\n",
    "    @abstractmethod\n",
    "    def area(self):\n",
    "        pass\n",
    "\n",
    "class Circle(Shape):\n",
    "    def __init__(self, radius):\n",
    "        self.radius = radius\n",
    "\n",
    "    def area(self):\n",
    "        return 3.14159 * self.radius * self.radius\n",
    "\n",
    "class Rectangle(Shape):\n",
    "    def __init__(self, length, width):\n",
    "        self.length = length\n",
    "        self.width = width\n",
    "\n",
    "    def area(self):\n",
    "        return self.length * self.width\n",
    "\n",
    "# Create objects and calculate areas\n",
    "circle = Circle(10)\n",
    "rectangle = Rectangle(5, 10)\n",
    "\n",
    "print(f\"Circle area: {circle.area()}\")  # Output: Circle area: 314.159\n",
    "print(f\"Rectangle area: {rectangle.area()}\")  # Output: Rectangle area: 50"
   ]
  },
  {
   "cell_type": "markdown",
   "metadata": {
    "id": "fa4dQAQEP12B"
   },
   "source": [
    "### 3.  Implement a multi-level inheritance scenario where a class Vehicle has an attribute type. Derive a class Car and further derive a class Electric Car that adds a battery attribute."
   ]
  },
  {
   "cell_type": "code",
   "execution_count": 10,
   "metadata": {
    "colab": {
     "base_uri": "https://localhost:8080/"
    },
    "id": "lJkINxHKUVFA",
    "outputId": "7e52aaab-3a67-4778-b3a1-5d4dec0ef5b5"
   },
   "outputs": [
    {
     "name": "stdout",
     "output_type": "stream",
     "text": [
      "Vehicle type: Truck\n",
      "Car type: Sedan, model: Toyota Camry\n",
      "Electric car type: SUV, model: Tesla Model X, battery: 120 kWh\n"
     ]
    }
   ],
   "source": [
    "class Vehicle:\n",
    "    def __init__(self, type):\n",
    "        self.type = type\n",
    "\n",
    "class Car(Vehicle):\n",
    "    def __init__(self, type, model):\n",
    "        super().__init__(type)  # Call Vehicle's __init__\n",
    "        self.model = model\n",
    "\n",
    "class ElectricCar(Car):\n",
    "    def __init__(self, type, model, battery):\n",
    "        super().__init__(type, model)  # Call Car's __init__\n",
    "        self.battery = battery\n",
    "\n",
    "# Create objects\n",
    "vehicle = Vehicle(\"Truck\")\n",
    "car = Car(\"Sedan\", \"Toyota Camry\")\n",
    "electric_car = ElectricCar(\"SUV\", \"Tesla Model X\", \"120 kWh\")\n",
    "\n",
    "# Access attributes\n",
    "print(f\"Vehicle type: {vehicle.type}\")  # Output: Vehicle type: Truck\n",
    "print(f\"Car type: {car.type}, model: {car.model}\")  # Output: Car type: Sedan, model: Toyota Camry\n",
    "print(f\"Electric car type: {electric_car.type}, model: {electric_car.model}, battery: {electric_car.battery}\")\n",
    "# Output: Electric car type: SUV, model: Tesla Model X, battery: 120 kWh"
   ]
  },
  {
   "cell_type": "markdown",
   "metadata": {
    "id": "FwCyojRKP6_v"
   },
   "source": [
    "### 4. Demonstrate polymorphism by creating a base class Bird with a method fly(). Create two derived classes Sparrow and Penguin that override the fly() method."
   ]
  },
  {
   "cell_type": "code",
   "execution_count": 11,
   "metadata": {
    "colab": {
     "base_uri": "https://localhost:8080/"
    },
    "id": "t-_pMETuU667",
    "outputId": "b5c146f4-0f85-442b-b298-dfdd933740f2"
   },
   "outputs": [
    {
     "name": "stdout",
     "output_type": "stream",
     "text": [
      "Generic bird flying\n",
      "Sparrow flying\n",
      "Penguins can't fly, but they can swim\n"
     ]
    }
   ],
   "source": [
    "class Bird:\n",
    "    def fly(self):\n",
    "        print(\"Generic bird flying\")\n",
    "\n",
    "class Sparrow(Bird):\n",
    "    def fly(self):\n",
    "        print(\"Sparrow flying\")\n",
    "\n",
    "class Penguin(Bird):\n",
    "    def fly(self):\n",
    "        print(\"Penguins can't fly, but they can swim\")\n",
    "\n",
    "# Create objects of different bird types\n",
    "generic_bird = Bird()\n",
    "sparrow = Sparrow()\n",
    "penguin = Penguin()\n",
    "\n",
    "# Demonstrate polymorphism by calling the fly method on different objects\n",
    "for bird in [generic_bird, sparrow, penguin]:\n",
    "    bird.fly()"
   ]
  },
  {
   "cell_type": "markdown",
   "metadata": {
    "id": "XOBifN2QQDzG"
   },
   "source": [
    "### 5.  Write a program to demonstrate encapsulation by creating a class BankAccount with private attributes balance and methods to deposit, withdraw, and check balance."
   ]
  },
  {
   "cell_type": "code",
   "execution_count": 14,
   "metadata": {
    "colab": {
     "base_uri": "https://localhost:8080/"
    },
    "id": "4ljHL7TRVPuM",
    "outputId": "5fd46e3c-52e4-4ae1-971c-9e2242f582d6"
   },
   "outputs": [
    {
     "name": "stdout",
     "output_type": "stream",
     "text": [
      "Deposited: $1000.00\n",
      "Withdrew: $300.00\n",
      "Current balance: $1700.00\n",
      "Withdrew: $1500.00\n"
     ]
    }
   ],
   "source": [
    "class BankAccount:\n",
    "    def __init__(self, initial_balance=0):\n",
    "        self.__balance = initial_balance  # Private attribute\n",
    "\n",
    "    def deposit(self, amount):\n",
    "        if amount > 0:\n",
    "            self.__balance += amount\n",
    "            print(f\"Deposited: ${amount:.2f}\")\n",
    "        else:\n",
    "            print(\"Invalid deposit amount.\")\n",
    "\n",
    "    def withdraw(self, amount):\n",
    "        if amount > 0 and amount <= self.__balance:\n",
    "            self.__balance -= amount\n",
    "            print(f\"Withdrew: ${amount:.2f}\")\n",
    "        else:\n",
    "            print(\"Invalid withdrawal amount or insufficient balance.\")\n",
    "\n",
    "    def check_balance(self):\n",
    "        print(f\"Current balance: ${self.__balance:.2f}\")\n",
    "\n",
    "# Create an account\n",
    "account = BankAccount(1000)\n",
    "\n",
    "# Perform operations\n",
    "account.deposit(1000)\n",
    "account.withdraw(300)\n",
    "account.check_balance()\n",
    "account.withdraw(1500)  # Attempt to withdraw more than balance"
   ]
  },
  {
   "cell_type": "markdown",
   "metadata": {
    "id": "WgK_qFRpQFbw"
   },
   "source": [
    "### 6. Demonstrate runtime polymorphism using a method play() in a base class Instrument. Derive classes Guitar and Piano that implement their own version of play()."
   ]
  },
  {
   "cell_type": "code",
   "execution_count": 15,
   "metadata": {
    "colab": {
     "base_uri": "https://localhost:8080/"
    },
    "id": "oxg-G8ILWFy3",
    "outputId": "2a87a7ad-4637-4c4e-f9a5-501ca0c95f7b"
   },
   "outputs": [
    {
     "name": "stdout",
     "output_type": "stream",
     "text": [
      "Playing a generic instrument\n",
      "Strumming the guitar\n",
      "Playing the piano\n"
     ]
    }
   ],
   "source": [
    "class Instrument:\n",
    "    def play(self):\n",
    "        print(\"Playing a generic instrument\")\n",
    "\n",
    "class Guitar(Instrument):\n",
    "    def play(self):\n",
    "        print(\"Strumming the guitar\")\n",
    "\n",
    "class Piano(Instrument):\n",
    "    def play(self):\n",
    "        print(\"Playing the piano\")\n",
    "\n",
    "# Create objects of different instrument types\n",
    "instrument = Instrument()\n",
    "guitar = Guitar()\n",
    "piano = Piano()\n",
    "\n",
    "# Demonstrate polymorphism by calling the play method on different objects\n",
    "for instrument in [instrument, guitar, piano]:\n",
    "    instrument.play()"
   ]
  },
  {
   "cell_type": "markdown",
   "metadata": {
    "id": "_vQfy-p3QLxn"
   },
   "source": [
    "### 7.  Create a class MathOperations with a class method add_numbers() to add two numbers and a static method subtract_numbers() to subtract two numbers."
   ]
  },
  {
   "cell_type": "code",
   "execution_count": 18,
   "metadata": {
    "colab": {
     "base_uri": "https://localhost:8080/"
    },
    "id": "XSsIdZ09WazX",
    "outputId": "c03c3500-53e3-4eda-ae7c-27694d724f34"
   },
   "outputs": [
    {
     "name": "stdout",
     "output_type": "stream",
     "text": [
      "14\n",
      "-1\n"
     ]
    }
   ],
   "source": [
    "class MathOperations:\n",
    "    @classmethod\n",
    "    def add_numbers(cls, num1, num2):\n",
    "        return num1 + num2\n",
    "\n",
    "    @staticmethod\n",
    "    def subtract_numbers(num1, num2):\n",
    "        return num1 - num2\n",
    "\n",
    "# Using the class method\n",
    "result1 = MathOperations.add_numbers(6, 8)  # Output: 14\n",
    "\n",
    "# Using the static method\n",
    "result2 = MathOperations.subtract_numbers(4, 5)  # Output: -1\n",
    "\n",
    "# To see the output, add print statements\n",
    "print(result1)\n",
    "print(result2)"
   ]
  },
  {
   "cell_type": "markdown",
   "metadata": {
    "id": "sEji2_pAQSKl"
   },
   "source": [
    "### 8.  Implement a class Person with a class method to count the total number of persons created."
   ]
  },
  {
   "cell_type": "code",
   "execution_count": 20,
   "metadata": {
    "colab": {
     "base_uri": "https://localhost:8080/"
    },
    "id": "AVb5b8aQYmzW",
    "outputId": "8230ea47-6969-492d-8ad4-981d222854b2"
   },
   "outputs": [
    {
     "name": "stdout",
     "output_type": "stream",
     "text": [
      "Total persons created: 3\n"
     ]
    }
   ],
   "source": [
    "class Person:\n",
    "    count = 0  # Class variable to store the count\n",
    "\n",
    "    def __init__(self, name):\n",
    "        self.name = name\n",
    "        Person.count += 1  # Increment the count in the constructor\n",
    "\n",
    "    @classmethod\n",
    "    def get_total_persons(cls):\n",
    "        return cls.count\n",
    "\n",
    "# Create some Person objects\n",
    "person1 = Person(\"Ajay\")\n",
    "person2 = Person(\"Vijay\")\n",
    "person3 = Person(\"Satyam\")\n",
    "\n",
    "# Get the total number of persons created\n",
    "total_persons = Person.get_total_persons()\n",
    "print(f\"Total persons created: {total_persons}\")  # Output: Total persons created: 3"
   ]
  },
  {
   "cell_type": "markdown",
   "metadata": {
    "id": "oJc3fmGMQbvl"
   },
   "source": [
    "### 9. Write a class Fraction with attributes numerator and denominator. Override the str method to display the fraction as \"numerator/denominator\"."
   ]
  },
  {
   "cell_type": "code",
   "execution_count": 22,
   "metadata": {
    "colab": {
     "base_uri": "https://localhost:8080/"
    },
    "id": "92K1WNQXaZhH",
    "outputId": "175f5cf0-94df-4db9-a5d8-be0dcb582b36"
   },
   "outputs": [
    {
     "name": "stdout",
     "output_type": "stream",
     "text": [
      "8/4\n"
     ]
    }
   ],
   "source": [
    "class Fraction:\n",
    "    def __init__(self, numerator, denominator):\n",
    "        self.numerator = numerator\n",
    "        self.denominator = denominator\n",
    "\n",
    "    def __str__(self):\n",
    "        return f\"{self.numerator}/{self.denominator}\"\n",
    "\n",
    "# Create a Fraction object\n",
    "fraction = Fraction(8, 4)\n",
    "\n",
    "# Print the fraction (calls the __str__ method)\n",
    "print(fraction)  # Output: 8/4"
   ]
  },
  {
   "cell_type": "markdown",
   "metadata": {
    "id": "DLyUTZdCQom2"
   },
   "source": [
    "### 10.  Demonstrate operator overloading by creating a class Vector and overriding the add method to add two vectors."
   ]
  },
  {
   "cell_type": "code",
   "execution_count": 24,
   "metadata": {
    "colab": {
     "base_uri": "https://localhost:8080/"
    },
    "id": "mYjcM8cmaqYT",
    "outputId": "f81c6674-a3f0-4663-8574-8879aa1fafff"
   },
   "outputs": [
    {
     "name": "stdout",
     "output_type": "stream",
     "text": [
      "(13, 12)\n"
     ]
    }
   ],
   "source": [
    "class Vector:\n",
    "    def __init__(self, x, y):\n",
    "        self.x = x\n",
    "        self.y = y\n",
    "\n",
    "    def __add__(self, other):\n",
    "        return Vector(self.x + other.x, self.y + other.y)\n",
    "\n",
    "    def __str__(self):\n",
    "        return f\"({self.x}, {self.y})\"\n",
    "\n",
    "# Create two vectors\n",
    "v1 = Vector(5, 3)\n",
    "v2 = Vector(8, 9)\n",
    "\n",
    "# Add the vectors using the overloaded + operator\n",
    "v3 = v1 + v2\n",
    "\n",
    "# Print the resulting vector\n",
    "print(v3)  # Output: (13, 12)"
   ]
  },
  {
   "cell_type": "markdown",
   "metadata": {
    "id": "-A8jRHtEQtME"
   },
   "source": [
    "### 11.  Create a class Person with attributes name and age. Add a method greet() that prints \"Hello, my name is {name} and I am {age} years old.\""
   ]
  },
  {
   "cell_type": "code",
   "execution_count": 25,
   "metadata": {
    "colab": {
     "base_uri": "https://localhost:8080/"
    },
    "id": "61RSk6NGbV5r",
    "outputId": "01ac5a0a-5f85-4a7d-9c0b-ee9f5572b239"
   },
   "outputs": [
    {
     "name": "stdout",
     "output_type": "stream",
     "text": [
      "Hello, my name is Ajay and I am 21 years old.\n"
     ]
    }
   ],
   "source": [
    "class Person:\n",
    "    def __init__(self, name, age):\n",
    "        self.name = name\n",
    "        self.age = age\n",
    "\n",
    "    def greet(self):\n",
    "        print(f\"Hello, my name is {self.name} and I am {self.age} years old.\")\n",
    "\n",
    "# Create a Person object\n",
    "person = Person(\"Ajay\", 21)\n",
    "\n",
    "# Call the greet method\n",
    "person.greet()  # Output: Hello, my name is Ajay and I am 21 years old."
   ]
  },
  {
   "cell_type": "markdown",
   "metadata": {
    "id": "_fCLDAg_Qy-X"
   },
   "source": [
    "### 12.  Implement a class Student with attributes name and grades. Create a method average_grade() to compute the average of the grades."
   ]
  },
  {
   "cell_type": "code",
   "execution_count": 27,
   "metadata": {
    "colab": {
     "base_uri": "https://localhost:8080/"
    },
    "id": "LD29U-BTb0kP",
    "outputId": "ea10b307-1045-4cbb-d6c1-d7071caf1464"
   },
   "outputs": [
    {
     "name": "stdout",
     "output_type": "stream",
     "text": [
      "Ajay's average grade: 84.25\n"
     ]
    }
   ],
   "source": [
    "class Student:\n",
    "    def __init__(self, name, grades):\n",
    "        self.name = name\n",
    "        self.grades = grades\n",
    "\n",
    "    def average_grade(self):\n",
    "        if not self.grades:  # Check if grades list is empty\n",
    "            return 0  # Avoid division by zero\n",
    "        return sum(self.grades) / len(self.grades)\n",
    "\n",
    "# Create a Student object\n",
    "student = Student(\"Ajay\", [90, 80, 75, 92])\n",
    "\n",
    "# Calculate and print the average grade\n",
    "average = student.average_grade()\n",
    "print(f\"{student.name}'s average grade: {average}\")  # Output: Ajay's average grade: 84.25"
   ]
  },
  {
   "cell_type": "markdown",
   "metadata": {
    "id": "HiBVLSxgQ_-n"
   },
   "source": [
    "### 13. Create a class Rectangle with methods set_dimensions() to set the dimensions and area() to calculate the area."
   ]
  },
  {
   "cell_type": "code",
   "execution_count": 29,
   "metadata": {
    "colab": {
     "base_uri": "https://localhost:8080/"
    },
    "id": "dw6bUmPYcY3X",
    "outputId": "c7fe0028-b6ea-4f51-8463-9508c83717c3"
   },
   "outputs": [
    {
     "name": "stdout",
     "output_type": "stream",
     "text": [
      "The area of the rectangle is: 54\n"
     ]
    }
   ],
   "source": [
    "class Rectangle:\n",
    "    def __init__(self, length=0, width=0):  # Initialize with default values\n",
    "        self.length = length\n",
    "        self.width = width\n",
    "\n",
    "    def set_dimensions(self, length, width):\n",
    "        self.length = length\n",
    "        self.width = width\n",
    "\n",
    "    def area(self):\n",
    "        return self.length * self.width\n",
    "\n",
    "# Create a Rectangle object\n",
    "rectangle = Rectangle()\n",
    "\n",
    "# Set the dimensions\n",
    "rectangle.set_dimensions(6, 9)\n",
    "\n",
    "# Calculate and print the area\n",
    "area = rectangle.area()\n",
    "print(f\"The area of the rectangle is: {area}\")  # Output: The area of the rectangle is: 54"
   ]
  },
  {
   "cell_type": "markdown",
   "metadata": {
    "id": "5ubfbiOSRGUI"
   },
   "source": [
    "### 14.  Create a class Employee with a method calculate_salary() that computes the salary based on hours worked and hourly rate. Create a derived class Manager that adds a bonus to the salary."
   ]
  },
  {
   "cell_type": "code",
   "execution_count": 32,
   "metadata": {
    "colab": {
     "base_uri": "https://localhost:8080/"
    },
    "id": "9o1F3IH-dWPz",
    "outputId": "bd00d468-b9d5-4371-b740-348b38886260"
   },
   "outputs": [
    {
     "name": "stdout",
     "output_type": "stream",
     "text": [
      "Ajay's salary: $600\n",
      "Niraj's salary: $1800\n"
     ]
    }
   ],
   "source": [
    "class Employee:\n",
    "    def __init__(self, name, hours_worked, hourly_rate):\n",
    "        self.name = name\n",
    "        self.hours_worked = hours_worked\n",
    "        self.hourly_rate = hourly_rate\n",
    "\n",
    "    def calculate_salary(self):\n",
    "        return self.hours_worked * self.hourly_rate\n",
    "\n",
    "class Manager(Employee):\n",
    "    def __init__(self, name, hours_worked, hourly_rate, bonus):\n",
    "        super().__init__(name, hours_worked, hourly_rate)\n",
    "        self.bonus = bonus\n",
    "\n",
    "    def calculate_salary(self):\n",
    "        base_salary = super().calculate_salary()\n",
    "        return base_salary + self.bonus\n",
    "\n",
    "# Create an Employee object\n",
    "employee = Employee(\"Ajay\", 40, 15)\n",
    "\n",
    "# Create a Manager object\n",
    "manager = Manager(\"Niraj\", 40, 20, 1000)\n",
    "\n",
    "# Calculate and print salaries\n",
    "employee_salary = employee.calculate_salary()\n",
    "manager_salary = manager.calculate_salary()\n",
    "\n",
    "print(f\"{employee.name}'s salary: ${employee_salary}\")  # Output: Ajay's salary: $600\n",
    "print(f\"{manager.name}'s salary: ${manager_salary}\")  # Output: Niraj's salary: $1800"
   ]
  },
  {
   "cell_type": "markdown",
   "metadata": {
    "id": "WnTFZBUORXiQ"
   },
   "source": [
    "### 15. Create a class Product with attributes name, price, and quantity. Implement a method total_price() that calculates the total price of the product."
   ]
  },
  {
   "cell_type": "code",
   "execution_count": 34,
   "metadata": {
    "colab": {
     "base_uri": "https://localhost:8080/"
    },
    "id": "6L_2Jd-UeoFD",
    "outputId": "6c843a78-96a3-4030-9b18-6f2b8711f8b8"
   },
   "outputs": [
    {
     "name": "stdout",
     "output_type": "stream",
     "text": [
      "Total price of Laptop: $5000\n"
     ]
    }
   ],
   "source": [
    "class Product:\n",
    "    def __init__(self, name, price, quantity):\n",
    "        self.name = name\n",
    "        self.price = price\n",
    "        self.quantity = quantity\n",
    "\n",
    "    def total_price(self):\n",
    "        return self.price * self.quantity\n",
    "\n",
    "# Create a Product object\n",
    "product = Product(\"Laptop\", 1000, 5)\n",
    "\n",
    "# Calculate and print the total price\n",
    "total = product.total_price()\n",
    "print(f\"Total price of {product.name}: ${total}\")  # Output: Total price of Laptop: $5000"
   ]
  },
  {
   "cell_type": "markdown",
   "metadata": {
    "id": "P-kkz8JvRdOk"
   },
   "source": [
    "### 16. Create a class Animal with an abstract method sound(). Create two derived classes Cow and Sheep that implement the sound() method."
   ]
  },
  {
   "cell_type": "code",
   "execution_count": 35,
   "metadata": {
    "colab": {
     "base_uri": "https://localhost:8080/"
    },
    "id": "b_2Evw36e-ZF",
    "outputId": "1db9f0d4-ce95-49fc-b408-cae3036edc11"
   },
   "outputs": [
    {
     "name": "stdout",
     "output_type": "stream",
     "text": [
      "Moo!\n",
      "Baa!\n"
     ]
    }
   ],
   "source": [
    "from abc import ABC, abstractmethod\n",
    "\n",
    "class Animal(ABC):\n",
    "    @abstractmethod\n",
    "    def sound(self):\n",
    "        pass\n",
    "\n",
    "class Cow(Animal):\n",
    "    def sound(self):\n",
    "        print(\"Moo!\")\n",
    "\n",
    "class Sheep(Animal):\n",
    "    def sound(self):\n",
    "        print(\"Baa!\")\n",
    "\n",
    "# Create objects and call the sound method\n",
    "cow = Cow()\n",
    "sheep = Sheep()\n",
    "\n",
    "cow.sound()  # Output: Moo!\n",
    "sheep.sound() # Output: Baa!"
   ]
  },
  {
   "cell_type": "markdown",
   "metadata": {
    "id": "8HA184q7Riqb"
   },
   "source": [
    "### 17. Create a class Book with attributes title, author, and year_published. Add a method get_book_info() that returns a formatted string with the book's details."
   ]
  },
  {
   "cell_type": "code",
   "execution_count": 36,
   "metadata": {
    "colab": {
     "base_uri": "https://localhost:8080/"
    },
    "id": "vCYdtWo9fdRL",
    "outputId": "e3254b5b-20e5-488c-fe8e-32dcaf41e5ca"
   },
   "outputs": [
    {
     "name": "stdout",
     "output_type": "stream",
     "text": [
      "Title: The Hitchhiker's Guide to the Galaxy, Author: Douglas Adams, Year Published: 1979\n"
     ]
    }
   ],
   "source": [
    "class Book:\n",
    "    def __init__(self, title, author, year_published):\n",
    "        self.title = title\n",
    "        self.author = author\n",
    "        self.year_published = year_published\n",
    "\n",
    "    def get_book_info(self):\n",
    "        return f\"Title: {self.title}, Author: {self.author}, Year Published: {self.year_published}\"\n",
    "\n",
    "# Create a Book object\n",
    "book = Book(\"The Hitchhiker's Guide to the Galaxy\", \"Douglas Adams\", 1979)\n",
    "\n",
    "# Get and print the book's information\n",
    "book_info = book.get_book_info()\n",
    "print(book_info)  # Output: Title: The Hitchhiker's Guide to the Galaxy, Author: Douglas Adams, Year Published: 1979"
   ]
  },
  {
   "cell_type": "markdown",
   "metadata": {
    "id": "HC4CD5acRsvN"
   },
   "source": [
    "### 18.  Create a class House with attributes address and price. Create a derived class Mansion that adds an attribute number_of_rooms."
   ]
  },
  {
   "cell_type": "code",
   "execution_count": 3,
   "metadata": {
    "colab": {
     "base_uri": "https://localhost:8080/"
    },
    "id": "Czi9liWRfsGt",
    "outputId": "c610eed8-cc86-4551-b578-af5e8aef7926"
   },
   "outputs": [
    {
     "name": "stdout",
     "output_type": "stream",
     "text": [
      "House address: 123 Main St, price: $500000\n",
      "Mansion address: 456 Park Ave, price: $2000000, number of rooms: 10\n"
     ]
    }
   ],
   "source": [
    "class House:\n",
    "    def __init__(self, address, price):\n",
    "        self.address = address\n",
    "        self.price = price\n",
    "\n",
    "class Mansion(House):\n",
    "    def __init__(self, address, price, number_of_rooms):\n",
    "        super().__init__(address, price)\n",
    "        self.number_of_rooms = number_of_rooms\n",
    "\n",
    "# Create a House object\n",
    "house = House(\"123 Main St\", 500000)\n",
    "\n",
    "# Create a Mansion object\n",
    "mansion = Mansion(\"456 Park Ave\", 2000000, 10)\n",
    "\n",
    "# Access attributes\n",
    "print(f\"House address: {house.address}, price: ${house.price}\")\n",
    "# Output: House address: 123 Main St, price: $500000\n",
    "\n",
    "print(f\"Mansion address: {mansion.address}, price: ${mansion.price}, number of rooms: {mansion.number_of_rooms}\")\n",
    "# Output: Mansion address: 456 Park Ave, price: $2000000, number of rooms: 10"
   ]
  }
 ],
 "metadata": {
  "colab": {
   "authorship_tag": "ABX9TyM6O77RAi/R1W+1UBir70QB",
   "include_colab_link": true,
   "provenance": []
  },
  "kernelspec": {
   "display_name": "Python 3 (ipykernel)",
   "language": "python",
   "name": "python3"
  },
  "language_info": {
   "codemirror_mode": {
    "name": "ipython",
    "version": 3
   },
   "file_extension": ".py",
   "mimetype": "text/x-python",
   "name": "python",
   "nbconvert_exporter": "python",
   "pygments_lexer": "ipython3",
   "version": "3.12.7"
  }
 },
 "nbformat": 4,
 "nbformat_minor": 4
}
