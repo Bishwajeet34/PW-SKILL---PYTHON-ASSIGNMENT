{
  "cells": [
    {
      "cell_type": "markdown",
      "metadata": {
        "id": "view-in-github",
        "colab_type": "text"
      },
      "source": [
        "<a href=\"https://colab.research.google.com/github/Bishwajeet34/PW-SKILL-PYTHON-ASSIGNMENT/blob/main/mean.ipynb\" target=\"_parent\"><img src=\"https://colab.research.google.com/assets/colab-badge.svg\" alt=\"Open In Colab\"/></a>"
      ]
    },
    {
      "cell_type": "code",
      "execution_count": null,
      "id": "83bc6b35-44c5-4c7e-a680-73913cad859b",
      "metadata": {
        "id": "83bc6b35-44c5-4c7e-a680-73913cad859b"
      },
      "outputs": [],
      "source": [
        "import numpy as np\n",
        "import pandas as pd\n",
        "import matplotlib.pyplot as plt\n",
        "import seaborn as sns"
      ]
    },
    {
      "cell_type": "code",
      "execution_count": null,
      "id": "28fde2bc-7ef8-47a8-93f2-e394a60a34be",
      "metadata": {
        "id": "28fde2bc-7ef8-47a8-93f2-e394a60a34be"
      },
      "outputs": [],
      "source": [
        "ar = np.array([4,5,6,2,1,8,5,6,4,7])"
      ]
    },
    {
      "cell_type": "code",
      "execution_count": null,
      "id": "ff7cffd6-c47b-49d4-bd62-7d0dcf49aed4",
      "metadata": {
        "id": "ff7cffd6-c47b-49d4-bd62-7d0dcf49aed4",
        "outputId": "b17f80e1-bbc5-4c7a-8837-ebd60028146a"
      },
      "outputs": [
        {
          "data": {
            "text/plain": [
              "array([4, 5, 6, 2, 1, 8, 5, 6, 4, 7])"
            ]
          },
          "execution_count": 42,
          "metadata": {},
          "output_type": "execute_result"
        }
      ],
      "source": [
        "ar"
      ]
    },
    {
      "cell_type": "code",
      "execution_count": null,
      "id": "ed9d8324-dd0e-44c7-aefd-8aa879276138",
      "metadata": {
        "id": "ed9d8324-dd0e-44c7-aefd-8aa879276138",
        "outputId": "edc75a54-3c96-4baa-9cf4-1400a9de91c1"
      },
      "outputs": [
        {
          "data": {
            "text/plain": [
              "48"
            ]
          },
          "execution_count": 43,
          "metadata": {},
          "output_type": "execute_result"
        }
      ],
      "source": [
        "np.sum(ar)"
      ]
    },
    {
      "cell_type": "code",
      "execution_count": null,
      "id": "369e2dfa-0f65-4483-a522-8631062074fc",
      "metadata": {
        "id": "369e2dfa-0f65-4483-a522-8631062074fc",
        "outputId": "f156de53-59fb-4a23-87c7-f7519e08717a"
      },
      "outputs": [
        {
          "data": {
            "text/plain": [
              "10"
            ]
          },
          "execution_count": 44,
          "metadata": {},
          "output_type": "execute_result"
        }
      ],
      "source": [
        "len(ar)"
      ]
    },
    {
      "cell_type": "code",
      "execution_count": null,
      "id": "d497d296-f997-4b31-b20d-010d867859c3",
      "metadata": {
        "id": "d497d296-f997-4b31-b20d-010d867859c3",
        "outputId": "cb1cbf13-3bda-423c-e106-08d74cdd393d"
      },
      "outputs": [
        {
          "data": {
            "text/plain": [
              "4.8"
            ]
          },
          "execution_count": 45,
          "metadata": {},
          "output_type": "execute_result"
        }
      ],
      "source": [
        "np.sum(ar)/len(ar)"
      ]
    },
    {
      "cell_type": "code",
      "execution_count": null,
      "id": "d536607f-a7d8-4734-b615-e6bdd30cfdd7",
      "metadata": {
        "id": "d536607f-a7d8-4734-b615-e6bdd30cfdd7",
        "outputId": "c027710f-b7ea-495b-c0b3-6df733437d4c"
      },
      "outputs": [
        {
          "data": {
            "text/plain": [
              "array([1, 2, 4, 4, 5, 5, 6, 6, 7, 8])"
            ]
          },
          "execution_count": 46,
          "metadata": {},
          "output_type": "execute_result"
        }
      ],
      "source": [
        "np.sort(ar)"
      ]
    },
    {
      "cell_type": "code",
      "execution_count": null,
      "id": "317968f8-a99e-4df1-b3a7-55902a899981",
      "metadata": {
        "id": "317968f8-a99e-4df1-b3a7-55902a899981",
        "outputId": "257fd474-4167-48f9-d2be-1aec90e572e9"
      },
      "outputs": [
        {
          "data": {
            "text/plain": [
              "4.8"
            ]
          },
          "execution_count": 47,
          "metadata": {},
          "output_type": "execute_result"
        }
      ],
      "source": [
        "np.mean(ar)"
      ]
    },
    {
      "cell_type": "code",
      "execution_count": null,
      "id": "230123f9-d7a5-4ebd-b39f-cd334a1451cf",
      "metadata": {
        "id": "230123f9-d7a5-4ebd-b39f-cd334a1451cf"
      },
      "outputs": [],
      "source": [
        "dataset = pd.read_excel(\"titanic.csv.xlsx\")"
      ]
    },
    {
      "cell_type": "code",
      "execution_count": null,
      "id": "141e31e9-9800-48ec-9361-1e48360ee6be",
      "metadata": {
        "id": "141e31e9-9800-48ec-9361-1e48360ee6be",
        "outputId": "9bdab94d-d488-4001-d71f-70d39b305d0c"
      },
      "outputs": [
        {
          "data": {
            "text/html": [
              "<div>\n",
              "<style scoped>\n",
              "    .dataframe tbody tr th:only-of-type {\n",
              "        vertical-align: middle;\n",
              "    }\n",
              "\n",
              "    .dataframe tbody tr th {\n",
              "        vertical-align: top;\n",
              "    }\n",
              "\n",
              "    .dataframe thead th {\n",
              "        text-align: right;\n",
              "    }\n",
              "</style>\n",
              "<table border=\"1\" class=\"dataframe\">\n",
              "  <thead>\n",
              "    <tr style=\"text-align: right;\">\n",
              "      <th></th>\n",
              "      <th>survived</th>\n",
              "      <th>pclass</th>\n",
              "      <th>sex</th>\n",
              "      <th>age</th>\n",
              "      <th>sibSp</th>\n",
              "      <th>parch</th>\n",
              "      <th>fare</th>\n",
              "      <th>embarked</th>\n",
              "      <th>class</th>\n",
              "      <th>who</th>\n",
              "      <th>adult_male</th>\n",
              "      <th>deck</th>\n",
              "      <th>embark_town</th>\n",
              "      <th>alive</th>\n",
              "      <th>alone</th>\n",
              "    </tr>\n",
              "  </thead>\n",
              "  <tbody>\n",
              "    <tr>\n",
              "      <th>0</th>\n",
              "      <td>0</td>\n",
              "      <td>3</td>\n",
              "      <td>male</td>\n",
              "      <td>22.0</td>\n",
              "      <td>1</td>\n",
              "      <td>0</td>\n",
              "      <td>7.2500</td>\n",
              "      <td>S</td>\n",
              "      <td>Third</td>\n",
              "      <td>male</td>\n",
              "      <td>True</td>\n",
              "      <td>NaN</td>\n",
              "      <td>Southampton</td>\n",
              "      <td>no</td>\n",
              "      <td>False</td>\n",
              "    </tr>\n",
              "    <tr>\n",
              "      <th>1</th>\n",
              "      <td>1</td>\n",
              "      <td>1</td>\n",
              "      <td>female</td>\n",
              "      <td>38.0</td>\n",
              "      <td>1</td>\n",
              "      <td>0</td>\n",
              "      <td>71.2833</td>\n",
              "      <td>C</td>\n",
              "      <td>First</td>\n",
              "      <td>female</td>\n",
              "      <td>False</td>\n",
              "      <td>C</td>\n",
              "      <td>Cherbourg</td>\n",
              "      <td>yes</td>\n",
              "      <td>False</td>\n",
              "    </tr>\n",
              "    <tr>\n",
              "      <th>2</th>\n",
              "      <td>1</td>\n",
              "      <td>3</td>\n",
              "      <td>female</td>\n",
              "      <td>26.0</td>\n",
              "      <td>0</td>\n",
              "      <td>0</td>\n",
              "      <td>7.9250</td>\n",
              "      <td>S</td>\n",
              "      <td>Third</td>\n",
              "      <td>female</td>\n",
              "      <td>False</td>\n",
              "      <td>NaN</td>\n",
              "      <td>Southampton</td>\n",
              "      <td>yes</td>\n",
              "      <td>True</td>\n",
              "    </tr>\n",
              "  </tbody>\n",
              "</table>\n",
              "</div>"
            ],
            "text/plain": [
              "   survived  pclass     sex   age  sibSp  parch     fare embarked  class  \\\n",
              "0         0       3    male  22.0      1      0   7.2500        S  Third   \n",
              "1         1       1  female  38.0      1      0  71.2833        C  First   \n",
              "2         1       3  female  26.0      0      0   7.9250        S  Third   \n",
              "\n",
              "      who  adult_male deck  embark_town alive  alone  \n",
              "0    male        True  NaN  Southampton    no  False  \n",
              "1  female       False    C    Cherbourg   yes  False  \n",
              "2  female       False  NaN  Southampton   yes   True  "
            ]
          },
          "execution_count": 49,
          "metadata": {},
          "output_type": "execute_result"
        }
      ],
      "source": [
        "dataset.head(3)"
      ]
    },
    {
      "cell_type": "code",
      "execution_count": null,
      "id": "0be62cd5-4c5f-43f3-9dca-10393610ade2",
      "metadata": {
        "id": "0be62cd5-4c5f-43f3-9dca-10393610ade2",
        "outputId": "360fffe4-c95d-4946-f698-5bb6d89a05de"
      },
      "outputs": [
        {
          "data": {
            "text/plain": [
              "0      22.0\n",
              "1      38.0\n",
              "2      26.0\n",
              "3      35.0\n",
              "4      35.0\n",
              "       ... \n",
              "886    27.0\n",
              "887    19.0\n",
              "888     NaN\n",
              "889    26.0\n",
              "890    32.0\n",
              "Name:  age, Length: 891, dtype: float64"
            ]
          },
          "execution_count": 50,
          "metadata": {},
          "output_type": "execute_result"
        }
      ],
      "source": [
        "dataset[' age']"
      ]
    },
    {
      "cell_type": "code",
      "execution_count": null,
      "id": "980467ff-e2f0-4e2b-a87a-18c7f420937e",
      "metadata": {
        "id": "980467ff-e2f0-4e2b-a87a-18c7f420937e",
        "outputId": "fbacf26e-5413-40c3-f7e3-a5f1a917f2bf"
      },
      "outputs": [
        {
          "data": {
            "text/plain": [
              "29.69911764705882"
            ]
          },
          "execution_count": 51,
          "metadata": {},
          "output_type": "execute_result"
        }
      ],
      "source": [
        "dataset[' age'].mean()"
      ]
    },
    {
      "cell_type": "code",
      "execution_count": null,
      "id": "f32fd4e0-c74b-437c-a0d5-2ed690b652a1",
      "metadata": {
        "id": "f32fd4e0-c74b-437c-a0d5-2ed690b652a1",
        "outputId": "6c3ed5c8-555a-4b05-b729-338c53964f8f"
      },
      "outputs": [
        {
          "data": {
            "text/plain": [
              "29.69911764705882"
            ]
          },
          "execution_count": 52,
          "metadata": {},
          "output_type": "execute_result"
        }
      ],
      "source": [
        "np.mean(dataset[' age'])"
      ]
    },
    {
      "cell_type": "code",
      "execution_count": null,
      "id": "e31bd105-4e98-4244-ba88-ac76adfeaee1",
      "metadata": {
        "id": "e31bd105-4e98-4244-ba88-ac76adfeaee1",
        "outputId": "bf6ca5ec-8ea2-4f61-a98c-5c36650e0a6d"
      },
      "outputs": [
        {
          "name": "stdout",
          "output_type": "stream",
          "text": [
            "Index(['survived', 'pclass', 'sex', ' age', 'sibSp', 'parch', 'fare',\n",
            "       'embarked', 'class', 'who', 'adult_male', 'deck', 'embark_town',\n",
            "       'alive', 'alone'],\n",
            "      dtype='object')\n"
          ]
        }
      ],
      "source": [
        "print(dataset.columns)\n"
      ]
    },
    {
      "cell_type": "code",
      "execution_count": null,
      "id": "96da5c06-bf74-4d97-9dbf-1df0a17ef19f",
      "metadata": {
        "id": "96da5c06-bf74-4d97-9dbf-1df0a17ef19f"
      },
      "outputs": [],
      "source": [
        "dataset.columns = dataset.columns.str.strip()\n"
      ]
    },
    {
      "cell_type": "code",
      "execution_count": null,
      "id": "78aadaed-f735-447a-a184-05f557d4687d",
      "metadata": {
        "id": "78aadaed-f735-447a-a184-05f557d4687d",
        "outputId": "1654ffb8-fcde-4328-f51c-7c6a449f8c5d"
      },
      "outputs": [
        {
          "data": {
            "image/png": "[encoded data removed]",
            "text/plain": [
              "<Figure size 640x480 with 1 Axes>"
            ]
          },
          "metadata": {},
          "output_type": "display_data"
        }
      ],
      "source": [
        "sns.histplot(x=\"age\", data=dataset)\n",
        "plt.show()\n"
      ]
    },
    {
      "cell_type": "code",
      "execution_count": null,
      "id": "4de63c53-9d78-4b92-b844-354ecfa86955",
      "metadata": {
        "id": "4de63c53-9d78-4b92-b844-354ecfa86955",
        "outputId": "72670b94-ac48-4127-e8be-b300cf4a611e"
      },
      "outputs": [
        {
          "data": {
            "image/png": "[encoded data removed]",
            "text/plain": [
              "<Figure size 640x480 with 1 Axes>"
            ]
          },
          "metadata": {},
          "output_type": "display_data"
        }
      ],
      "source": [
        "sns.histplot(x=\"age\", data=dataset,bins=[i for i in range (0,81,10)])\n",
        "plt.show()\n"
      ]
    },
    {
      "cell_type": "code",
      "execution_count": null,
      "id": "b733b7f9-f1b8-4d02-8d25-173cfc84e3e4",
      "metadata": {
        "id": "b733b7f9-f1b8-4d02-8d25-173cfc84e3e4"
      },
      "outputs": [],
      "source": [
        "mn = np.mean(dataset[\"age\"])"
      ]
    },
    {
      "cell_type": "code",
      "execution_count": null,
      "id": "88a612b7-8b8a-406e-b0f8-37edd4a7efc7",
      "metadata": {
        "id": "88a612b7-8b8a-406e-b0f8-37edd4a7efc7",
        "outputId": "74554c22-78ef-44cc-f549-d87279f8276c"
      },
      "outputs": [
        {
          "data": {
            "image/png": "[encoded data removed]",
            "text/plain": [
              "<Figure size 640x480 with 1 Axes>"
            ]
          },
          "metadata": {},
          "output_type": "display_data"
        }
      ],
      "source": [
        "sns.histplot(x=\"age\", data=dataset,bins=[i for i in range (0,81,10)])\n",
        "plt.plot([mn for i in range (0,300)],[i for i in range (0,300)],c=\"red\")\n",
        "plt.show()\n"
      ]
    }
  ],
  "metadata": {
    "kernelspec": {
      "display_name": "Python 3 (ipykernel)",
      "language": "python",
      "name": "python3"
    },
    "language_info": {
      "codemirror_mode": {
        "name": "ipython",
        "version": 3
      },
      "file_extension": ".py",
      "mimetype": "text/x-python",
      "name": "python",
      "nbconvert_exporter": "python",
      "pygments_lexer": "ipython3",
      "version": "3.12.7"
    },
    "colab": {
      "provenance": [],
      "include_colab_link": true
    }
  },
  "nbformat": 4,
  "nbformat_minor": 5
}